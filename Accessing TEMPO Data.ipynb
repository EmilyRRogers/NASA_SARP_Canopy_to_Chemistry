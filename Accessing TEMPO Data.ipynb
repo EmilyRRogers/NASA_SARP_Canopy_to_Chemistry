{
 "cells": [
  {
   "cell_type": "markdown",
   "id": "039c8992-7148-47fe-9d00-9b25533e44eb",
   "metadata": {},
   "source": [
    "# Using pyrsig to download public data files"
   ]
  },
  {
   "cell_type": "markdown",
   "id": "a181dc0d-982e-42bb-b663-ff4bbeb14c80",
   "metadata": {},
   "source": [
    "#### Emily Rogers\n",
    "\n",
    "#### Last updated: 2025/04/16"
   ]
  },
  {
   "cell_type": "markdown",
   "id": "57a4add8-7a94-4601-812e-efec749ecdcb",
   "metadata": {},
   "source": [
    "Source code: https://barronh.github.io/pyrsig/pyrsig.html"
   ]
  },
  {
   "cell_type": "markdown",
   "id": "c31b07ba-cd6b-4730-89e9-4bab0032aaea",
   "metadata": {},
   "source": [
    "Running example: accessing formaldehyde vertical column data for Louisville, KY for 1 week in July, 2024"
   ]
  },
  {
   "cell_type": "code",
   "execution_count": null,
   "id": "de89f649-e2b5-49a4-8d61-7bbc29300737",
   "metadata": {},
   "outputs": [],
   "source": [
    "# Defining bounding date and coordinates\n",
    "bdate = '2024-07-20'\n",
    "edate = '2024-07-27'\n",
    "bbox = (-85.76, 38.33, -85.75, 38.34) #(wlon, slat, elon, nlat)\n",
    "\n",
    "# for working directory required for pyrsig\n",
    "locname = 'tempo_files'\n",
    "\n",
    "# API access key\n",
    "api_key = 'anonymous' "
   ]
  },
  {
   "cell_type": "code",
   "execution_count": null,
   "id": "3d634b33-ce34-436e-9fad-3082ae9cb975",
   "metadata": {},
   "outputs": [],
   "source": [
    "# Looking for available data for desired date/ location\n",
    "\n",
    "api_test = pyrsig.RsigApi(bdate= bdate_test, bbox= bbox_test, workdir= locname, gridfit= True)\n",
    "api_test.tempo_kw['api_key'] = api_key\n",
    "\n",
    "descdf = api_test.descriptions()\n",
    "descdf\n",
    "descdf.query('name.str.contains(\"tempo.l3.hcho\")')"
   ]
  },
  {
   "cell_type": "code",
   "execution_count": null,
   "id": "c04edcec-4e83-4317-9c5d-f22b2b239c0b",
   "metadata": {},
   "outputs": [],
   "source": [
    "# Downloading a TEMPO data file\n",
    "\n",
    "tempokey='tempo.l3.hcho.vertical_column'\n",
    "\n",
    "api_hcho = pyrsig.RsigApi(bdate=bdate, edate=edate, bbox=bbox, workdir=locname, gridfit=(True))\n",
    "api_hcho.tempo_kw['api_key'] = api_key\n",
    "df = api_hcho.to_dataframe(tempokey, unit_keys=False, parse_dates=True, backend = 'xdr')"
   ]
  },
  {
   "cell_type": "code",
   "execution_count": null,
   "id": "7b4e3c93-e422-4bd7-ae1a-d7a40645ce70",
   "metadata": {},
   "outputs": [],
   "source": [
    "# Converting Timestamp to numeric data if needed for analysis\n",
    "\n",
    "df['hour'] = df['Timestamp'].dt.hour"
   ]
  }
 ],
 "metadata": {
  "kernelspec": {
   "display_name": "Python [conda env:base] *",
   "language": "python",
   "name": "conda-base-py"
  },
  "language_info": {
   "codemirror_mode": {
    "name": "ipython",
    "version": 3
   },
   "file_extension": ".py",
   "mimetype": "text/x-python",
   "name": "python",
   "nbconvert_exporter": "python",
   "pygments_lexer": "ipython3",
   "version": "3.12.7"
  }
 },
 "nbformat": 4,
 "nbformat_minor": 5
}
